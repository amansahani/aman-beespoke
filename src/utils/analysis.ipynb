{
 "cells": [
  {
   "cell_type": "code",
   "execution_count": null,
   "metadata": {},
   "outputs": [
    {
     "name": "stdout",
     "output_type": "stream",
     "text": [
      "Index(['Kurta sets and salwar suits', 'Men Jeans', 'Men casual shirts',\n",
      "       'Men casual trousers', 'Men ethnic wear', 'Men formal shirts',\n",
      "       'Men t-shirts & polos', 'Sarees', 'Women Dresses',\n",
      "       'Women Jeans & Jeggings', 'Women party wear', 'Women western wear'],\n",
      "      dtype='object', name='Product_category')\n"
     ]
    }
   ],
   "source": [
    "import pandas as pd\n",
    "\n",
    "df = pd.read_excel(r\"/home/tomi/Downloads/product_catalog.xlsx\")\n",
    "\"\"\"\n",
    "THE BELOW CODE EXTRACTS THE CATEGORIES\n",
    "\"\"\"\n",
    "label = df.dropna().iloc[:, [1]].groupby([\"Product_category\"]).count().index\n",
    "print(label)\n",
    "\"\"\"\n",
    "THE BELOW CODE DROPS THE ROWS WITH MISSING VALUES\n",
    "\"\"\"\n",
    "df = df.dropna()\n",
    "df.to_excel(\"/home/tomi/Downloads/catalog.xlsx\")"
   ]
  },
  {
   "cell_type": "code",
   "execution_count": null,
   "metadata": {},
   "outputs": [],
   "source": []
  }
 ],
 "metadata": {
  "kernelspec": {
   "display_name": "Python 3",
   "language": "python",
   "name": "python3"
  },
  "language_info": {
   "codemirror_mode": {
    "name": "ipython",
    "version": 3
   },
   "file_extension": ".py",
   "mimetype": "text/x-python",
   "name": "python",
   "nbconvert_exporter": "python",
   "pygments_lexer": "ipython3",
   "version": "3.10.12"
  }
 },
 "nbformat": 4,
 "nbformat_minor": 2
}
